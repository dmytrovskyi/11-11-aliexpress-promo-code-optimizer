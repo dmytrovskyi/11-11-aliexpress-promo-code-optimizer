{
  "metadata": {
    "kernelspec": {
      "name": "python",
      "display_name": "Python (Pyodide)",
      "language": "python"
    },
    "language_info": {
      "codemirror_mode": {
        "name": "python",
        "version": 3
      },
      "file_extension": ".py",
      "mimetype": "text/x-python",
      "name": "python",
      "nbconvert_exporter": "python",
      "pygments_lexer": "ipython3",
      "version": "3.8"
    }
  },
  "nbformat_minor": 4,
  "nbformat": 4,
  "cells": [
    {
      "cell_type": "code",
      "source": "def maximize_coupons(item_prices, coupons):\n    \"\"\"\n    Splits items into batches to maximize the total benefit from coupons with different thresholds and benefits.\n    \n    Parameters:\n    - item_prices: List of item prices (list of floats or ints).\n    - coupons: List of coupon dictionaries, each with 'threshold' and 'benefit'.\n    \n    Returns:\n    - batches: List of batches, where each batch is a dictionary with keys:\n        - 'items': List of item prices in the batch.\n        - 'total': Total price of the batch.\n        - 'coupon_threshold': The threshold of the coupon applied to the batch (if any).\n        - 'coupon_benefit': The benefit of the coupon applied to the batch (if any).\n    \"\"\"\n    # Calculate benefit-to-threshold ratio for each coupon\n    for coupon in coupons:\n        coupon['ratio'] = coupon['benefit'] / coupon['threshold']\n    \n    # Sort coupons based on benefit-to-threshold ratio in descending order\n    coupons = sorted(coupons, key=lambda x: x['ratio'], reverse=True)\n    \n    # Sort items in ascending order to create batches that just meet the threshold\n    items = sorted(item_prices)\n    batches = []\n    \n    while items:\n        batch = []\n        total = 0\n        coupon_applied = None\n        coupon_benefit = 0\n        \n        # Attempt to apply the most beneficial coupon\n        for coupon in coupons:\n            threshold = coupon['threshold']\n            benefit = coupon['benefit']\n            temp_batch = []\n            temp_total = 0\n            items_to_remove = []\n            \n            # Greedily add smallest items until threshold is met or exceeded\n            for item in items:\n                temp_batch.append(item)\n                temp_total += item\n                items_to_remove.append(item)\n                if temp_total >= threshold:\n                    break  # Threshold met or exceeded\n                    \n            if temp_total >= threshold:\n                # Apply coupon\n                batch = temp_batch\n                total = temp_total\n                coupon_applied = threshold\n                coupon_benefit = benefit\n                # Remove used items from items\n                for used_item in items_to_remove:\n                    items.remove(used_item)\n                break  # Move to next batch after applying coupon\n\n        if not batch:\n            # Can't apply any coupon, create a batch with remaining items\n            batch = items.copy()\n            total = sum(batch)\n            coupon_applied = None\n            coupon_benefit = 0\n            items = []  # All items are now allocated\n\n        batches.append({\n            'items': batch,\n            'total': total,\n            'coupon_threshold': coupon_applied,\n            'coupon_benefit': coupon_benefit\n        })\n    \n    return batches\n\n# Usage:\n\nitem_prices = [94.90, 7.21, 189.24, 4.64, 30.5, 9.68, 29.35, 2.04, 3.50, 6.64, 6.57]\ncoupons = [\n    {'threshold': 169, 'benefit': 25},\n    {'threshold': 89, 'benefit': 12},\n    {'threshold': 39, 'benefit': 5},\n]\n\nbatches = maximize_coupons(item_prices, coupons)\n\nprint(\"Batches:\")\ntotal_benefit = 0\nfor i, batch in enumerate(batches, 1):\n    if batch['coupon_threshold']:\n        coupon_info = f\"Coupon Applied: Threshold = {batch['coupon_threshold']}, Benefit = {batch['coupon_benefit']}\"\n    else:\n        coupon_info = \"No Coupon Applied\"\n    total_benefit += batch['coupon_benefit']\n    print(f\"Batch {i}: Items = {batch['items']}, Total = {batch['total']:.2f}, {coupon_info}\")\nprint(f\"Total Benefit: {total_benefit}\")\n",
      "metadata": {
        "trusted": true
      },
      "outputs": [
        {
          "name": "stdout",
          "text": "Batches:\nBatch 1: Items = [2.04, 3.5, 4.64, 6.57, 6.64, 7.21, 9.68, 29.35, 30.5, 94.9], Total = 195.03, Coupon Applied: Threshold = 169, Benefit = 25\nBatch 2: Items = [189.24], Total = 189.24, Coupon Applied: Threshold = 169, Benefit = 25\nTotal Benefit: 50\n",
          "output_type": "stream"
        }
      ],
      "execution_count": 13
    },
    {
      "cell_type": "code",
      "source": "",
      "metadata": {
        "trusted": true
      },
      "outputs": [],
      "execution_count": null
    },
    {
      "cell_type": "code",
      "source": "",
      "metadata": {
        "trusted": true
      },
      "outputs": [],
      "execution_count": null
    }
  ]
}
